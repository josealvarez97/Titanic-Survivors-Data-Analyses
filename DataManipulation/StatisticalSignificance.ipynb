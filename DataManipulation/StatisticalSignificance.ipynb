{
 "cells": [
  {
   "cell_type": "markdown",
   "metadata": {},
   "source": [
    "# P-Value"
   ]
  },
  {
   "cell_type": "markdown",
   "metadata": {},
   "source": [
    "The p-value is defined as the probabily, under the null hypotheis H *being true*, of obtaining a result equal to or more extreme **than what was actually observed**.\n",
    "\n",
    "[Sidenote: PRINTING LATEX](http://nbviewer.jupyter.org/github/ipython/ipython/blob/2.x/examples/Notebook/Display%20System.ipynb#LaTeX)"
   ]
  },
  {
   "cell_type": "markdown",
   "metadata": {},
   "source": [
    "The smaller the p-value, the higher the significance because it tells the investigator that the hypothesis under consideration (*null hypothesis*) may not adequately explain the observation. "
   ]
  },
  {
   "cell_type": "markdown",
   "metadata": {},
   "source": [
    "The fixed pre-defined *Alpha* level can be interpreted as the rate of falsely rejecting the null hypothesis (or type I error), since **Pr(Reject H_0 | H_0) = Pr(p <= *Alpha* | H_0) = *Alpha* **  "
   ]
  },
  {
   "cell_type": "markdown",
   "metadata": {},
   "source": [
    "Alpha is a defined probability, an established desired rate...\n",
    "\n",
    "We evaluate whether the p-value, an actual probability of the real world (not establilshed/defined), is equal or less (ideally) than Alpha.\n",
    "\n",
    "We wonder whether the probability of getting a result equal or as extreme as the one gotten (assuming null H true) is equal or less than Alpha (the established rate of having results as extreme once in a while even though the null hypothesis is true)"
   ]
  },
  {
   "cell_type": "markdown",
   "metadata": {},
   "source": [
    "## Usage"
   ]
  },
  {
   "cell_type": "markdown",
   "metadata": {},
   "source": [
    "The p-value is widely used in statistical hypothesis testing, specifically in null hypothesis significance testing. In this method, as part of experimental design, before performing the experiment, one first chooses a model (the null hypothesis) and a threshold value for p, called the significance level of the test, traditionally 5% or 1% [5] and denoted as α. *If the p-value is less than the chosen significance level (α), that **suggests that the observed data is sufficiently inconsistent with the null hypothesis that the null hypothesis may be rejected.** * However, that does not prove that the tested hypothesis is true. When the p-value is calculated correctly, this test guarantees that the Type I error rate is at most α. For typical analysis, using the standard α = 0.05 cutoff, the null hypothesis is rejected when p < .05 and not rejected when p > .05. The p-value does not, in itself, support reasoning about the probabilities of hypotheses but is only a tool for deciding whether to reject the null hypothesis."
   ]
  },
  {
   "cell_type": "markdown",
   "metadata": {},
   "source": [
    "## Practice question: Was there a significant difference between the mean age of children who survived and the mean age of children who did not survive? Or in terms of fare paid?"
   ]
  },
  {
   "cell_type": "code",
   "execution_count": 13,
   "metadata": {},
   "outputs": [
    {
     "name": "stdout",
     "output_type": "stream",
     "text": [
      "Dimmensions (891, 12)\n"
     ]
    }
   ],
   "source": [
    "#import useful packages\n",
    "import pandas as pd\n",
    "#pd.set_option('max_rows',10)\n",
    "import numpy as np\n",
    "import matplotlib.pyplot as plt\n",
    "import matplotlib\n",
    "from scipy import stats\n",
    "%matplotlib inline\n",
    "\n",
    "# Read data\n",
    "titanic_dataframe = pd.read_csv('../Data/train.csv')\n",
    "\n",
    "# Print dimmensions\n",
    "print('Dimmensions', titanic_dataframe.shape)\n",
    "\n",
    "# Function for printing out some statistics\n",
    "def print_stats(list):\n",
    "    print('count:', len(list))\n",
    "    print('mean:', np.mean(list))\n",
    "    print('std:', np.std(list,ddof=1),\"\\n\")\n",
    "    \n"
   ]
  },
  {
   "cell_type": "code",
   "execution_count": 14,
   "metadata": {},
   "outputs": [
    {
     "data": {
      "text/html": [
       "<div>\n",
       "<style>\n",
       "    .dataframe thead tr:only-child th {\n",
       "        text-align: right;\n",
       "    }\n",
       "\n",
       "    .dataframe thead th {\n",
       "        text-align: left;\n",
       "    }\n",
       "\n",
       "    .dataframe tbody tr th {\n",
       "        vertical-align: top;\n",
       "    }\n",
       "</style>\n",
       "<table border=\"1\" class=\"dataframe\">\n",
       "  <thead>\n",
       "    <tr style=\"text-align: right;\">\n",
       "      <th></th>\n",
       "      <th>PassengerId</th>\n",
       "      <th>Survived</th>\n",
       "      <th>Pclass</th>\n",
       "      <th>Name</th>\n",
       "      <th>Sex</th>\n",
       "      <th>Age</th>\n",
       "      <th>SibSp</th>\n",
       "      <th>Parch</th>\n",
       "      <th>Ticket</th>\n",
       "      <th>Fare</th>\n",
       "      <th>Cabin</th>\n",
       "      <th>Embarked</th>\n",
       "    </tr>\n",
       "  </thead>\n",
       "  <tbody>\n",
       "    <tr>\n",
       "      <th>0</th>\n",
       "      <td>1</td>\n",
       "      <td>0</td>\n",
       "      <td>3</td>\n",
       "      <td>Braund, Mr. Owen Harris</td>\n",
       "      <td>male</td>\n",
       "      <td>22.0</td>\n",
       "      <td>1</td>\n",
       "      <td>0</td>\n",
       "      <td>A/5 21171</td>\n",
       "      <td>7.2500</td>\n",
       "      <td>NaN</td>\n",
       "      <td>S</td>\n",
       "    </tr>\n",
       "    <tr>\n",
       "      <th>1</th>\n",
       "      <td>2</td>\n",
       "      <td>1</td>\n",
       "      <td>1</td>\n",
       "      <td>Cumings, Mrs. John Bradley (Florence Briggs Th...</td>\n",
       "      <td>female</td>\n",
       "      <td>38.0</td>\n",
       "      <td>1</td>\n",
       "      <td>0</td>\n",
       "      <td>PC 17599</td>\n",
       "      <td>71.2833</td>\n",
       "      <td>C85</td>\n",
       "      <td>C</td>\n",
       "    </tr>\n",
       "    <tr>\n",
       "      <th>2</th>\n",
       "      <td>3</td>\n",
       "      <td>1</td>\n",
       "      <td>3</td>\n",
       "      <td>Heikkinen, Miss. Laina</td>\n",
       "      <td>female</td>\n",
       "      <td>26.0</td>\n",
       "      <td>0</td>\n",
       "      <td>0</td>\n",
       "      <td>STON/O2. 3101282</td>\n",
       "      <td>7.9250</td>\n",
       "      <td>NaN</td>\n",
       "      <td>S</td>\n",
       "    </tr>\n",
       "    <tr>\n",
       "      <th>3</th>\n",
       "      <td>4</td>\n",
       "      <td>1</td>\n",
       "      <td>1</td>\n",
       "      <td>Futrelle, Mrs. Jacques Heath (Lily May Peel)</td>\n",
       "      <td>female</td>\n",
       "      <td>35.0</td>\n",
       "      <td>1</td>\n",
       "      <td>0</td>\n",
       "      <td>113803</td>\n",
       "      <td>53.1000</td>\n",
       "      <td>C123</td>\n",
       "      <td>S</td>\n",
       "    </tr>\n",
       "    <tr>\n",
       "      <th>4</th>\n",
       "      <td>5</td>\n",
       "      <td>0</td>\n",
       "      <td>3</td>\n",
       "      <td>Allen, Mr. William Henry</td>\n",
       "      <td>male</td>\n",
       "      <td>35.0</td>\n",
       "      <td>0</td>\n",
       "      <td>0</td>\n",
       "      <td>373450</td>\n",
       "      <td>8.0500</td>\n",
       "      <td>NaN</td>\n",
       "      <td>S</td>\n",
       "    </tr>\n",
       "  </tbody>\n",
       "</table>\n",
       "</div>"
      ],
      "text/plain": [
       "   PassengerId  Survived  Pclass  \\\n",
       "0            1         0       3   \n",
       "1            2         1       1   \n",
       "2            3         1       3   \n",
       "3            4         1       1   \n",
       "4            5         0       3   \n",
       "\n",
       "                                                Name     Sex   Age  SibSp  \\\n",
       "0                            Braund, Mr. Owen Harris    male  22.0      1   \n",
       "1  Cumings, Mrs. John Bradley (Florence Briggs Th...  female  38.0      1   \n",
       "2                             Heikkinen, Miss. Laina  female  26.0      0   \n",
       "3       Futrelle, Mrs. Jacques Heath (Lily May Peel)  female  35.0      1   \n",
       "4                           Allen, Mr. William Henry    male  35.0      0   \n",
       "\n",
       "   Parch            Ticket     Fare Cabin Embarked  \n",
       "0      0         A/5 21171   7.2500   NaN        S  \n",
       "1      0          PC 17599  71.2833   C85        C  \n",
       "2      0  STON/O2. 3101282   7.9250   NaN        S  \n",
       "3      0            113803  53.1000  C123        S  \n",
       "4      0            373450   8.0500   NaN        S  "
      ]
     },
     "execution_count": 14,
     "metadata": {},
     "output_type": "execute_result"
    }
   ],
   "source": [
    "titanic_dataframe.head()"
   ]
  },
  {
   "cell_type": "code",
   "execution_count": 22,
   "metadata": {},
   "outputs": [],
   "source": [
    "# children separated by survival\n",
    "survivors_children_dataframe = titanic_dataframe.loc[(titanic_dataframe['Age'] <= 12) & (titanic_dataframe['Survived'] == 1)]\n",
    "not_surivors_children_dataframe = titanic_dataframe.loc[(titanic_dataframe['Age'] <= 12) & (titanic_dataframe['Survived'] == 0)]"
   ]
  },
  {
   "cell_type": "code",
   "execution_count": 28,
   "metadata": {},
   "outputs": [
    {
     "name": "stdout",
     "output_type": "stream",
     "text": [
      "-- Children Who survived: Age --\n",
      "count: 40\n",
      "mean: 3.87925\n",
      "std: 3.0044039363608404 \n",
      "\n",
      "-- Children Who NOT Survived: Age \n",
      "count: 29\n",
      "mean: 6.0\n",
      "std: 3.555679561329612 \n",
      "\n"
     ]
    }
   ],
   "source": [
    "#print stats for each category\n",
    "print('-- Children Who survived: Age --')\n",
    "print_stats(survivors_children_dataframe['Age'])\n",
    "print('-- Children Who NOT Survived: Age ')\n",
    "print_stats(not_surivors_children_dataframe['Age'])"
   ]
  },
  {
   "cell_type": "markdown",
   "metadata": {},
   "source": [
    "On a first impression, the means suggest that priority was given to babies...\n",
    "\n",
    "But are these differences due to chance or are they statistically significant differences?"
   ]
  },
  {
   "cell_type": "code",
   "execution_count": 46,
   "metadata": {},
   "outputs": [
    {
     "name": "stdout",
     "output_type": "stream",
     "text": [
      "First: Survived\n",
      "Second: Not Survived\n"
     ]
    },
    {
     "data": {
      "image/png": "[encoded data removed]",
      "text/plain": [
       "<matplotlib.figure.Figure at 0x1eca7994c88>"
      ]
     },
     "metadata": {},
     "output_type": "display_data"
    }
   ],
   "source": [
    "# Make some histograms grouped by survival\n",
    "fig, axs = plt.subplots(1,2,figsize=(8,2))\n",
    "axs[0].hist(survivors_children_dataframe['Age']);\n",
    "axs[1].hist(not_surivors_children_dataframe['Age']);\n",
    "for ax in axs.flat:\n",
    "    ax.set(xlabel='Age', ylabel='Frequency')\n",
    "print('First: Survived')\n",
    "print('Second: Not Survived')"
   ]
  },
  {
   "cell_type": "code",
   "execution_count": 83,
   "metadata": {},
   "outputs": [
    {
     "name": "stdout",
     "output_type": "stream",
     "text": [
      "Variation in Children Who Survived\n"
     ]
    },
    {
     "data": {
      "image/png": "[encoded data removed]",
      "text/plain": [
       "<matplotlib.figure.Figure at 0x1eca7cfd6d8>"
      ]
     },
     "metadata": {},
     "output_type": "display_data"
    },
    {
     "name": "stdout",
     "output_type": "stream",
     "text": [
      "Variation in Children Who NOT Survived\n"
     ]
    },
    {
     "data": {
      "image/png": "[encoded data removed]",
      "text/plain": [
       "<matplotlib.figure.Figure at 0x1eca67317b8>"
      ]
     },
     "metadata": {},
     "output_type": "display_data"
    }
   ],
   "source": [
    "# Choose category to examine:\n",
    "category = 'Age'\n",
    "\n",
    "def histogramplot(column_name, dataframe,nbins):\n",
    "    #plots a histogram and prints the frequency\n",
    "    plt.figure()\n",
    "    dataframe[column_name].plot.hist(bins = nbins, figsize = (6,4))\n",
    "    plt.title(column_name)\n",
    "    plt.show()\n",
    "    #headers = [column_name,'Frequency']\n",
    "    #print(headers)\n",
    "    #print(stats.itemfreq(titanic_dataframe[column_name]))\n",
    "    \n",
    "print('Variation in Children Who Survived')\n",
    "histogramplot(category, survivors_children_dataframe,6)\n",
    "print('Variation in Children Who NOT Survived')\n",
    "histogramplot(category, not_surivors_children_dataframe,5)\n",
    "\n"
   ]
  },
  {
   "cell_type": "markdown",
   "metadata": {},
   "source": [
    "My Hypothesis is that there is a statistically significant difference.\n",
    "\n",
    "H_A: Mean of Children Who Survived != Mean of Children Who Did Not Survive\n",
    "\n",
    "H_A: Mean of Children Who Survived == Mean of Children Who Did Not Survive"
   ]
  },
  {
   "cell_type": "markdown",
   "metadata": {},
   "source": [
    "(Although I'm thinking an explanation for this could be that parents prefered not to take kids at a problematic age such as 6 years old. Babies because they had to. Above 10 because they are able to reason better...) So, perhaps, there where not so many kids around 6 years old"
   ]
  },
  {
   "cell_type": "code",
   "execution_count": 95,
   "metadata": {},
   "outputs": [
    {
     "data": {
      "image/png": "[encoded data removed]",
      "text/plain": [
       "<matplotlib.figure.Figure at 0x1eca66e3e80>"
      ]
     },
     "metadata": {},
     "output_type": "display_data"
    }
   ],
   "source": [
    "# Let's actually check the distribution of children by age\n",
    "all_children_dataframe = titanic_dataframe.loc[titanic_dataframe['Age'] <= 12]\n",
    "histogramplot('Age', all_children_dataframe,6)"
   ]
  },
  {
   "cell_type": "markdown",
   "metadata": {},
   "source": [
    "So, there were certainly more babies, although it doesn't seem that there where specially more 10 years old than 6 years old. Which makes it very weird/particular that the distribution of age in children who did not survived is definetely bimodal "
   ]
  },
  {
   "cell_type": "code",
   "execution_count": 97,
   "metadata": {},
   "outputs": [],
   "source": [
    "def difference_of_means_test(data1,data2,tails):\n",
    "    n1 = len(data1)\n",
    "    n2 = len(data2)\n",
    "    \n",
    "    x1 = np.mean(data1)\n",
    "    x2 = np.mean(data2)\n",
    "    \n",
    "    s1 = np.std(data1,ddof=1) # Bessel's correction: use n - 1 in denominator\n",
    "    s2 = np.std(data2,ddof=1)\n",
    "    \n",
    "    SE = np.sqrt(s1**2/n1 + s2**2/n2)\n",
    "    Tscore = np.abs((x2-x1))/SE\n",
    "    df = min(n1,n2) - 1 # conservative estimate. Review OpenIntro\n",
    "    pvalue = tails * stats.t.cdf(-Tscore,df)\n",
    "    \n",
    "    SDpooled = np.sqrt((s1**2*(n1-1) + s2**2*(n2-1)) / (n1+n2-2))\n",
    "    Cohensd = (x2 - x1) / SDpooled\n",
    "    \n",
    "    print('p = ', pvalue)\n",
    "    print('d = ', Cohensd)"
   ]
  },
  {
   "cell_type": "code",
   "execution_count": 98,
   "metadata": {},
   "outputs": [
    {
     "name": "stdout",
     "output_type": "stream",
     "text": [
      "p =  0.0144683553951\n",
      "d =  0.653303382193\n"
     ]
    }
   ],
   "source": [
    "difference_of_means_test(survivors_children_dataframe['Age'], not_surivors_children_dataframe['Age'],2)"
   ]
  },
  {
   "cell_type": "markdown",
   "metadata": {},
   "source": [
    "**So,I guess this means that the difference of means is  statistically significant** "
   ]
  },
  {
   "cell_type": "markdown",
   "metadata": {},
   "source": [
    "# Now, what about practical significance?"
   ]
  },
  {
   "cell_type": "markdown",
   "metadata": {},
   "source": [
    "Cohens d in the previosu step stands for the measure of the effect size i.e., practical significance."
   ]
  },
  {
   "cell_type": "code",
   "execution_count": 99,
   "metadata": {},
   "outputs": [],
   "source": [
    "# Documentation\n",
    "#http://www.introspective-mode.org/practical-significance-effect-size/"
   ]
  },
  {
   "cell_type": "markdown",
   "metadata": {},
   "source": [
    "The table below contains descriptors for magnitudes of d = 0.01 to 2.0, as initially suggested by Cohen and expanded by Sawilowsky.[16]\n",
    "\n",
    "Effect size | d | Reference\n",
    "--- | --- | ---\n",
    "Very small | 0.01 | Sawilowsky, 2009\n",
    "Small | 0.20 | Cohen, 1988\n",
    "Medium | 0.50 | Cohen, 1988\n",
    "Large | 0.80 | Cohen, 1988\n",
    "Very large | 1.20 | Sawilowsky, 2009\n",
    "Huge | 2.0 | Sawilowsky, 2009\n"
   ]
  },
  {
   "cell_type": "markdown",
   "metadata": {},
   "source": [
    "** Our effect sisze (d=0.65) is in the classification of being from Medium to Large**"
   ]
  },
  {
   "cell_type": "code",
   "execution_count": null,
   "metadata": {},
   "outputs": [],
   "source": []
  }
 ],
 "metadata": {
  "kernelspec": {
   "display_name": "Python 3",
   "language": "python",
   "name": "python3"
  },
  "language_info": {
   "codemirror_mode": {
    "name": "ipython",
    "version": 3
   },
   "file_extension": ".py",
   "mimetype": "text/x-python",
   "name": "python",
   "nbconvert_exporter": "python",
   "pygments_lexer": "ipython3",
   "version": "3.6.1"
  }
 },
 "nbformat": 4,
 "nbformat_minor": 2
}
