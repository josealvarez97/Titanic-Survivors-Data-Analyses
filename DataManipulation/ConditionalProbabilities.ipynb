{
 "cells": [
  {
   "cell_type": "markdown",
   "metadata": {},
   "source": [
    "# Conditional probabilities"
   ]
  },
  {
   "cell_type": "markdown",
   "metadata": {},
   "source": [
    "Potential questions:\n",
    "\n",
    "- What was the probability of a child to survive given that he was between a 5 and 10 years old and was travelling in third class?\n",
    "    - What about 1st class and second class?\n",
    "- What was the probability of a child to survive given that he had less than 1 parent travelling with him?\n",
    "- What was the probability of a child to survive give that he had at least 1 sibling?\n",
    "    - What if he didn't?"
   ]
  },
  {
   "cell_type": "markdown",
   "metadata": {},
   "source": [
    "# Considering only sample of children dataframe.\n",
    "P(Survives=1)\n",
    "P(Survives = 1| 5 <= Age <= 10 AND Pclass = 3 )  \n",
    "\n",
    "  \n",
    "P(Survives = 1 | Pclasss = 3) * P(Pclass = 3) <=> P(Pclasss = 3 | Survives = 1) * P(Survives = 1)\n",
    "\n",
    "P(5 <= Age <= 10 AND Pclass = 3)\n",
    "<=>\n",
    "P(5 <= Age <= 10 | Pclass = 3) * P(Pclass = 3) <=> P(Pclass = 3 | 5 <= Age <= 10) * P(5 <= Age <= 10)\n",
    "\n",
    "  \n",
    "\n",
    "**P(Survives = 1 | 5 <= Age <= 10 AND Pclass = 3) * P(5 <= Age <= 10 AND Pclass = 3) <=> P(5 <= Age <= 10 AND Pclass = 3 | Survives = 1) * P(Survives = 1)**  \n",
    "<=>  \n",
    "P(Survives = 1 | 5 <= Age <= 10 AND Pclass = 3) * P(5 <= Age <= 10 AND Pclass = 3) <=> P(5 <= Age <= 10 AND Pclass = 3 AND Survives = 1)  \n",
    "==>  \n",
    "P(Survives = 1 | 5 <= Age <= 10 AND Pclass = 3) <=> {P(5 <= Age <= 10 AND Pclass = 3 AND Survives = 1)}/{P(5 <= Age <= 10 AND Pclass = 3)}\n",
    "\n",
    "\n",
    "May reiterate with other Ages and Classes...\n"
   ]
  },
  {
   "cell_type": "code",
   "execution_count": null,
   "metadata": {},
   "outputs": [],
   "source": []
  }
 ],
 "metadata": {
  "kernelspec": {
   "display_name": "Python 3",
   "language": "python",
   "name": "python3"
  },
  "language_info": {
   "codemirror_mode": {
    "name": "ipython",
    "version": 3
   },
   "file_extension": ".py",
   "mimetype": "text/x-python",
   "name": "python",
   "nbconvert_exporter": "python",
   "pygments_lexer": "ipython3",
   "version": "3.6.1"
  }
 },
 "nbformat": 4,
 "nbformat_minor": 2
}
