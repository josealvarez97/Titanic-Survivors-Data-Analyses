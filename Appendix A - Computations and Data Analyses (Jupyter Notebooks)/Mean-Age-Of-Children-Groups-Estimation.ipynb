{
 "cells": [
  {
   "cell_type": "markdown",
   "metadata": {},
   "source": [
    "# Independent Inquiry: \n",
    "## What was the mean age of children (defined as being less than 12 years old), $\\bar{x}_{childrenAge}$, in the Titanic embarcation, with an $(1 - \\alpha)\\% $ confidence level? ($\\alpha = 0.05$)"
   ]
  },
  {
   "cell_type": "code",
   "execution_count": 1,
   "metadata": {},
   "outputs": [],
   "source": [
    "# Import useful packages\n",
    "import pandas\n",
    "import numpy as np\n",
    "from scipy import stats\n",
    "import matplotlib.pyplot as plt\n",
    "import matplotlib\n",
    "%matplotlib inline\n",
    "\n",
    "# import data\n",
    "filename = '../Data/train.csv'\n",
    "titanic_dataframe = pandas.read_csv(filename)\n",
    "#titanic_dataframe.head() # for visualizing headers and first five rows of data."
   ]
  },
  {
   "cell_type": "code",
   "execution_count": 26,
   "metadata": {},
   "outputs": [
    {
     "name": "stdout",
     "output_type": "stream",
     "text": [
      "Sample Size All Titanic Passengers: 891\n",
      "Sample Size Children Passengers: 69\n"
     ]
    }
   ],
   "source": [
    "titanic_sample_size_n = len(titanic_dataframe)\n",
    "children_sample_size_n = len(titanic_dataframe.loc[titanic_dataframe['Age'] <= 12])\n",
    "print('Sample Size All Titanic Passengers:', sample_size_n)\n",
    "print('Sample Size Children Passengers:', children_sample_size_n)\n",
    "\n"
   ]
  },
  {
   "cell_type": "code",
   "execution_count": 25,
   "metadata": {},
   "outputs": [
    {
     "data": {
      "image/png": "[encoded data removed]",
      "text/plain": [
       "<matplotlib.figure.Figure at 0x1ca6186b438>"
      ]
     },
     "metadata": {},
     "output_type": "display_data"
    }
   ],
   "source": [
    "# Define a function for plotting a histogram of a column in a dataframe\n",
    "\n",
    "def histogramplot(dataframe, column_name):\n",
    "    plt.figure()\n",
    "    dataframe[column_name].plot.hist(bins = 4, figsize = (4,5))\n",
    "    plt.title(column_name + ' (years)')\n",
    "    \n",
    "\n",
    "children_dataframe = titanic_dataframe.loc[titanic_dataframe['Age'] <= 12]\n",
    "histogramplot(children_dataframe, 'Age')"
   ]
  },
  {
   "cell_type": "markdown",
   "metadata": {},
   "source": [
    "As it can be observed, the distributions is not normal. However, the principles of the central limit theorem allows us to estimate the mean, as the sampling distribution of the sample mean is, conceptually, normal."
   ]
  },
  {
   "cell_type": "code",
   "execution_count": 32,
   "metadata": {},
   "outputs": [
    {
     "name": "stdout",
     "output_type": "stream",
     "text": [
      "Point Estimate 4.770579710144927\n",
      "Confidence Interval 3.97642857732 5.56473084297\n",
      "Confidence Level: 0.95\n"
     ]
    },
    {
     "data": {
      "text/plain": [
       "(3.9764285773224448, 5.5647308429674105)"
      ]
     },
     "execution_count": 32,
     "metadata": {},
     "output_type": "execute_result"
    }
   ],
   "source": [
    "def confidence_interval(sample, confidence_level, to_print):\n",
    "    sample_mean = np.mean(sample) # Sample Mean, point estimate\n",
    "    z = stats.norm.ppf(1 - (1 - confidence_level)/2)\n",
    "    # We may not have the standard deviation, but we may estimate\n",
    "    # the SE of the Sampling Distribution of the Sample Mean\n",
    "    # by dividing the Standard Deviation of the sample itself by n^2\n",
    "    SE = np.std(sample) / len(sample)**(1/2)\n",
    "    # We assume we may use the Standard Deviation of the Sample as \n",
    "    # if it was the Standard Deviation of the Population\n",
    "    lowbound = sample_mean - z*SE\n",
    "    highbound = sample_mean + z*SE\n",
    "    \n",
    "    if to_print:\n",
    "        print('Point Estimate', sample_mean)\n",
    "        print('Confidence Interval', lowbound, highbound)\n",
    "        print('Confidence Level:', confidence_level)\n",
    "    \n",
    "    return lowbound,highbound\n",
    "    \n",
    "confidence_interval(children_dataframe['Age'], 0.95, True)"
   ]
  },
  {
   "cell_type": "markdown",
   "metadata": {},
   "source": [
    "# Independent Inquiry: \n",
    "## What was proportion of children (defined as being less than 12 years old) that did not survive, $\\hat{p}_{nonSurvivingChildren}$, in the Titanic embarcation, with an $(1 - \\alpha)\\%$ confidence level? ($\\alpha = 0.05$)"
   ]
  },
  {
   "cell_type": "code",
   "execution_count": 39,
   "metadata": {},
   "outputs": [],
   "source": [
    "# Define a function for confidence intervals with proportions\n",
    "def confidence_interval_proportions(sample_size_n, sample_proportion_p,confidence_level, to_print):\n",
    "    point_estimate = sample_proportion_p\n",
    "    z = stats.norm.ppf(1-(1-confidence_level)/2)\n",
    "    SE = (sample_proportion_p * (1-sample_proportion_p)/sample_size_n)\n",
    "    \n",
    "    lowbound = point_estimate - z*SE\n",
    "    highbound = point_estimate + z*SE\n",
    "    \n",
    "    if to_print:\n",
    "        print('Point estimate', point_estimate)\n",
    "        print(str(confidence_level*100)+\"% confidence interval: \", [lowbound,highbound])\n",
    "        \n",
    "    return [lowbound, highbound]"
   ]
  },
  {
   "cell_type": "markdown",
   "metadata": {},
   "source": [
    "## Proportion of children who did not survived"
   ]
  },
  {
   "cell_type": "code",
   "execution_count": 36,
   "metadata": {},
   "outputs": [
    {
     "name": "stdout",
     "output_type": "stream",
     "text": [
      "Total children:  69\n",
      "Non Surviving Children:  29\n",
      "Non Surviving Children Proportion:  0.42028985507246375\n"
     ]
    }
   ],
   "source": [
    "total_children = children_sample_size_n\n",
    "non_surviving_children_total = len(children_dataframe.loc[children_dataframe['Survived'] == 0])\n",
    "non_surviving_children_proportion = non_surviving_children_total / total_children\n",
    "print('Total children: ', total_children)\n",
    "print('Non Surviving Children: ', non_surviving_children_total)\n",
    "print('Non Surviving Children Proportion: ', non_surviving_children_proportion)\n",
    "                                   "
   ]
  },
  {
   "cell_type": "markdown",
   "metadata": {},
   "source": [
    "## Confidence Interval for proportion of children who did not survived"
   ]
  },
  {
   "cell_type": "code",
   "execution_count": 40,
   "metadata": {},
   "outputs": [
    {
     "name": "stdout",
     "output_type": "stream",
     "text": [
      "Point estimate 0.42028985507246375\n",
      "95.0% confidence interval:  [0.41336901508918639, 0.42721069505574111]\n"
     ]
    },
    {
     "data": {
      "text/plain": [
       "[0.41336901508918639, 0.42721069505574111]"
      ]
     },
     "execution_count": 40,
     "metadata": {},
     "output_type": "execute_result"
    }
   ],
   "source": [
    "confidence_interval_proportions(total_children,non_surviving_children_proportion,.95,True)"
   ]
  },
  {
   "cell_type": "code",
   "execution_count": null,
   "metadata": {},
   "outputs": [],
   "source": []
  }
 ],
 "metadata": {
  "kernelspec": {
   "display_name": "Python 3",
   "language": "python",
   "name": "python3"
  },
  "language_info": {
   "codemirror_mode": {
    "name": "ipython",
    "version": 3
   },
   "file_extension": ".py",
   "mimetype": "text/x-python",
   "name": "python",
   "nbconvert_exporter": "python",
   "pygments_lexer": "ipython3",
   "version": "3.6.1"
  }
 },
 "nbformat": 4,
 "nbformat_minor": 2
}
