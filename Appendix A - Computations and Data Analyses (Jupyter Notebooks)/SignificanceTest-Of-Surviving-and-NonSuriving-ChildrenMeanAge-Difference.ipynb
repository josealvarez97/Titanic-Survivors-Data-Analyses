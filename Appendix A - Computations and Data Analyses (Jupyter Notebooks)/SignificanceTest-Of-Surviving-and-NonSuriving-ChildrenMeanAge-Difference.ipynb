{
 "cells": [
  {
   "cell_type": "markdown",
   "metadata": {},
   "source": [
    "# Research Question:\n",
    "## Was there a statistically significant difference between the mean age of children who survived $(\\bar{x}_{survivingChildrenAge})$ and the mean age of children who did not survive $(\\bar{x}_{nonSurvivingChildrenAge})$? What would be the effect size?"
   ]
  },
  {
   "cell_type": "markdown",
   "metadata": {},
   "source": [
    "$$H_A : \\bar{x}_{survivingChildrenAge} =  \\bar{x}_{nonSurvivingChildrenAge}$$\n",
    "\n",
    "$$H_0: \\bar{x}_{survivingChildrenAge} \\neq  \\bar{x}_{nonSurvivingChildrenAge}$$"
   ]
  },
  {
   "cell_type": "code",
   "execution_count": 5,
   "metadata": {},
   "outputs": [],
   "source": [
    "#Import suseful packages\n",
    "import pandas as pd\n",
    "import numpy as np\n",
    "import matplotlib.pyplot as plt\n",
    "import matplotlib\n",
    "from scipy import stats\n",
    "%matplotlib inline\n",
    "\n",
    "#Read data\n",
    "titanic_dataframe = pd.read_csv('../Data/train.csv')\n",
    "\n",
    "# Children dataframes separated by survival\n",
    "surviving_children_dataframe = titanic_dataframe.loc[(titanic_dataframe['Age'] <= 12) & (titanic_dataframe['Survived'] == 1)]\n",
    "non_surviving_children_dataframe = titanic_dataframe.loc[(titanic_dataframe['Age'] <= 12) & (titanic_dataframe['Survived'] == 0)]"
   ]
  },
  {
   "cell_type": "code",
   "execution_count": 7,
   "metadata": {},
   "outputs": [],
   "source": [
    "def difference_of_means_test(data1, data2, tails):\n",
    "    n1 = len(data1)\n",
    "    n2 = len(data2)\n",
    "    x1 = np.mean(data1)\n",
    "    x2 = np.mean(data2)\n",
    "    \n",
    "    s1 = np.std(data1,ddof=1)\n",
    "    s2 = np.std(data2,ddof=1)\n",
    "    \n",
    "    SE = np.sqrt(s1**2/n1 + s2**2/n2)\n",
    "    Tscore = np.abs((x2-x1)) / SE\n",
    "    df = min(n1,n2) - 1\n",
    "    pvalue = tails * stats.t.cdf(-Tscore,df)\n",
    "    SDpooled = np.sqrt((s1**2*(n1-1) + s2**2*(n2-1)) / (n1+n2-2))\n",
    "    Cohensd = (x2 - x1) / SDpooled\n",
    "    \n",
    "    print('p-value = ', pvalue)\n",
    "    print('Cohen\\'s d = ', Cohensd)\n",
    "    "
   ]
  },
  {
   "cell_type": "code",
   "execution_count": 8,
   "metadata": {},
   "outputs": [
    {
     "name": "stdout",
     "output_type": "stream",
     "text": [
      "p-value =  0.0144683553951\n",
      "Cohen's d =  0.653303382193\n"
     ]
    }
   ],
   "source": [
    "difference_of_means_test(surviving_children_dataframe['Age'], non_surviving_children_dataframe['Age'], 2)"
   ]
  },
  {
   "cell_type": "markdown",
   "metadata": {},
   "source": [
    "** Means are statistically significance since p-value is less than $\\alpha = 0.05$** "
   ]
  },
  {
   "cell_type": "markdown",
   "metadata": {},
   "source": [
    "## Analyzing practical significance\n",
    "Cohens d in the previosu step stands for the measure of the effect size i.e., practical significance."
   ]
  },
  {
   "cell_type": "markdown",
   "metadata": {},
   "source": [
    "The table below contains descriptors for magnitudes of d = 0.01 to 2.0, as initially suggested by Cohen and expanded by Sawilowsky.\n",
    "\n",
    "Effect size | d | Reference\n",
    "--- | --- | ---\n",
    "Very small | 0.01 | Sawilowsky, 2009\n",
    "Small | 0.20 | Cohen, 1988\n",
    "Medium | 0.50 | Cohen, 1988\n",
    "Large | 0.80 | Cohen, 1988\n",
    "Very large | 1.20 | Sawilowsky, 2009\n",
    "Huge | 2.0 | Sawilowsky, 2009"
   ]
  },
  {
   "cell_type": "markdown",
   "metadata": {},
   "source": [
    "**Effect sisze $(d = 0.65)$ is from *Medium* to *Large*, according to the classification above **"
   ]
  },
  {
   "cell_type": "code",
   "execution_count": null,
   "metadata": {},
   "outputs": [],
   "source": []
  }
 ],
 "metadata": {
  "kernelspec": {
   "display_name": "Python 3",
   "language": "python",
   "name": "python3"
  },
  "language_info": {
   "codemirror_mode": {
    "name": "ipython",
    "version": 3
   },
   "file_extension": ".py",
   "mimetype": "text/x-python",
   "name": "python",
   "nbconvert_exporter": "python",
   "pygments_lexer": "ipython3",
   "version": "3.6.1"
  }
 },
 "nbformat": 4,
 "nbformat_minor": 2
}
