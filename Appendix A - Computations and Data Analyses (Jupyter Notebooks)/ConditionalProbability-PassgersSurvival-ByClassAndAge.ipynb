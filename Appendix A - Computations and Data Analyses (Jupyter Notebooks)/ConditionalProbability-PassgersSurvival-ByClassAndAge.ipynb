{
 "cells": [
  {
   "cell_type": "markdown",
   "metadata": {},
   "source": [
    "# Independent Inquiry:\n",
    "## What was the probability of a passenger to survive given that he was a child and was travelling in third class $P(Survive = 1 \\,|\\, \\, {Age < 12}\\; \\& \\; Pclass = 3)$ ? What if instead of third class he was travelling in first class $P(Survive = 1 \\,|\\, \\, {Age < 12}\\; \\& \\; Pclass = 1)$?"
   ]
  },
  {
   "cell_type": "code",
   "execution_count": 3,
   "metadata": {},
   "outputs": [],
   "source": [
    "# Import useful packages\n",
    "import pandas\n",
    "import numpy as np\n",
    "from scipy import stats\n",
    "import matplotlib.pyplot as plt\n",
    "import matplotlib\n",
    "%matplotlib inline\n",
    "\n",
    "# Import data\n",
    "filename = '../Data/train.csv'\n",
    "titanic_dataframe = pandas.read_csv(filename)\n",
    "sample_size = len(titanic_dataframe)"
   ]
  },
  {
   "cell_type": "code",
   "execution_count": 10,
   "metadata": {},
   "outputs": [],
   "source": [
    "\n",
    "# The function only takes the class as parameter but the conceptual conditional probability \n",
    "#takes the fact that it's a children and belongs to a certain class\n",
    "# as conditions.\n",
    "# Only C_class is taken on the code because for the research questions it's the only parameter that changes.\n",
    "# (In both we take children as condition, did not need to take that fact)\n",
    "def C_class_children_suvival_conditional_probability(C_class):\n",
    "    #  Determine proportion of passengers where (is children and class = c)\n",
    "    C_class_children_total = len(titanic_dataframe.loc[(titanic_dataframe['Age'] <= 12) & (titanic_dataframe['Pclass'] == C_class)])\n",
    "    C_class_children_proportion = C_class_children_total / sample_size\n",
    "    # For tracking information if desired, print\n",
    "    print('C_class_children_proportion',C_class_children_proportion)\n",
    "    \n",
    "    \n",
    "    # Determine proportion of passengers where (survived AND is children AND class = C_class)\n",
    "    C_class_surviving_children_total = len(titanic_dataframe.loc[(titanic_dataframe['Survived'] == 1) & (titanic_dataframe['Age'] <= 12) & (titanic_dataframe['Pclass'] == C_class)])\n",
    "    C_class_surviving_children_proportion = C_class_surviving_children_total / sample_size\n",
    "    print('C_class_surviving_children_proportion',C_class_surviving_children_proportion)\n",
    "\n",
    "    \n",
    "    \n",
    "    C_class_children_survival_conditional_probability = C_class_surviving_children_proportion / C_class_children_proportion\n",
    "    \n",
    "    return C_class_children_survival_conditional_probability\n",
    "\n",
    "\n",
    "\n",
    "\n"
   ]
  },
  {
   "cell_type": "markdown",
   "metadata": {},
   "source": [
    "# Probability to survive given that passenger was a CHILD and was travelling in THIRD class\n",
    "## $P(Survive = 1 \\,|\\, \\, {Age < 12}\\; \\& \\; Pclass = 3)$"
   ]
  },
  {
   "cell_type": "code",
   "execution_count": 11,
   "metadata": {},
   "outputs": [
    {
     "name": "stdout",
     "output_type": "stream",
     "text": [
      "C_class_children_proportion 0.05387205387205387\n",
      "C_class_surviving_children_proportion 0.02244668911335578\n",
      "0.41666666666666663\n"
     ]
    }
   ],
   "source": [
    "print(C_class_children_suvival_conditional_probability(3))\n"
   ]
  },
  {
   "cell_type": "markdown",
   "metadata": {},
   "source": [
    "# Probability to survive given that passenger was a CHILD and was travelling in FIRST class\n",
    "## $P(Survive = 1 \\,|\\, \\, {Age < 12}\\; \\& \\; Pclass = 1)$"
   ]
  },
  {
   "cell_type": "code",
   "execution_count": 12,
   "metadata": {},
   "outputs": [
    {
     "name": "stdout",
     "output_type": "stream",
     "text": [
      "C_class_children_proportion 0.004489337822671156\n",
      "C_class_surviving_children_proportion 0.003367003367003367\n",
      "0.7499999999999999\n"
     ]
    }
   ],
   "source": [
    "print(C_class_children_suvival_conditional_probability(1))"
   ]
  },
  {
   "cell_type": "code",
   "execution_count": null,
   "metadata": {},
   "outputs": [],
   "source": []
  }
 ],
 "metadata": {
  "kernelspec": {
   "display_name": "Python 3",
   "language": "python",
   "name": "python3"
  },
  "language_info": {
   "codemirror_mode": {
    "name": "ipython",
    "version": 3
   },
   "file_extension": ".py",
   "mimetype": "text/x-python",
   "name": "python",
   "nbconvert_exporter": "python",
   "pygments_lexer": "ipython3",
   "version": "3.6.1"
  }
 },
 "nbformat": 4,
 "nbformat_minor": 2
}
